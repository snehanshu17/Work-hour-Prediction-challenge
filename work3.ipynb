{
 "cells": [
  {
   "cell_type": "code",
   "execution_count": 1,
   "id": "5a2166fa",
   "metadata": {},
   "outputs": [],
   "source": [
    "import pandas as pd\n",
    "import numpy as np\n",
    "import matplotlib.pyplot as plt\n",
    "import seaborn as sns\n",
    "\n",
    "from sklearn.linear_model import LinearRegression\n",
    "from sklearn.neighbors import KNeighborsRegressor\n",
    "from sklearn.tree import DecisionTreeRegressor\n",
    "from sklearn.ensemble import RandomForestRegressor\n",
    "from sklearn.ensemble import GradientBoostingRegressor\n",
    "from sklearn.preprocessing import LabelEncoder, StandardScaler\n",
    "from sklearn.model_selection import train_test_split\n",
    "from sklearn.metrics import mean_squared_error\n",
    "\n",
    "import warnings\n",
    "warnings.filterwarnings('always')\n",
    "warnings.filterwarnings('ignore')"
   ]
  },
  {
   "cell_type": "code",
   "execution_count": 2,
   "id": "2a98534b",
   "metadata": {},
   "outputs": [],
   "source": [
    "train=pd.read_csv('train_New.csv')\n",
    "test=pd.read_csv('test_New.csv')"
   ]
  },
  {
   "cell_type": "code",
   "execution_count": 3,
   "id": "c4e926e6",
   "metadata": {},
   "outputs": [
    {
     "data": {
      "text/html": [
       "<div>\n",
       "<style scoped>\n",
       "    .dataframe tbody tr th:only-of-type {\n",
       "        vertical-align: middle;\n",
       "    }\n",
       "\n",
       "    .dataframe tbody tr th {\n",
       "        vertical-align: top;\n",
       "    }\n",
       "\n",
       "    .dataframe thead th {\n",
       "        text-align: right;\n",
       "    }\n",
       "</style>\n",
       "<table border=\"1\" class=\"dataframe\">\n",
       "  <thead>\n",
       "    <tr style=\"text-align: right;\">\n",
       "      <th></th>\n",
       "      <th>age</th>\n",
       "      <th>workclass</th>\n",
       "      <th>fnlwgt</th>\n",
       "      <th>education</th>\n",
       "      <th>education-num</th>\n",
       "      <th>marital-status</th>\n",
       "      <th>occupation</th>\n",
       "      <th>relationship</th>\n",
       "      <th>race</th>\n",
       "      <th>sex</th>\n",
       "      <th>capital-gain</th>\n",
       "      <th>capital-loss</th>\n",
       "      <th>hours-per-week</th>\n",
       "      <th>native-country</th>\n",
       "      <th>income</th>\n",
       "    </tr>\n",
       "  </thead>\n",
       "  <tbody>\n",
       "    <tr>\n",
       "      <th>0</th>\n",
       "      <td>52</td>\n",
       "      <td>Private</td>\n",
       "      <td>98926</td>\n",
       "      <td>HS-grad</td>\n",
       "      <td>9</td>\n",
       "      <td>Never-married</td>\n",
       "      <td>Other-service</td>\n",
       "      <td>Unmarried</td>\n",
       "      <td>White</td>\n",
       "      <td>Male</td>\n",
       "      <td>-3</td>\n",
       "      <td>0</td>\n",
       "      <td>44</td>\n",
       "      <td>United-States</td>\n",
       "      <td>&lt;=50K</td>\n",
       "    </tr>\n",
       "    <tr>\n",
       "      <th>1</th>\n",
       "      <td>76</td>\n",
       "      <td>Self-emp-not-inc</td>\n",
       "      <td>132607</td>\n",
       "      <td>Bachelors</td>\n",
       "      <td>12</td>\n",
       "      <td>Married-civ-spouse</td>\n",
       "      <td>Sales</td>\n",
       "      <td>Husband</td>\n",
       "      <td>White</td>\n",
       "      <td>Male</td>\n",
       "      <td>7527</td>\n",
       "      <td>0</td>\n",
       "      <td>44</td>\n",
       "      <td>United-States</td>\n",
       "      <td>&gt;50K</td>\n",
       "    </tr>\n",
       "    <tr>\n",
       "      <th>2</th>\n",
       "      <td>40</td>\n",
       "      <td>Private</td>\n",
       "      <td>243258</td>\n",
       "      <td>Bachelors</td>\n",
       "      <td>13</td>\n",
       "      <td>Married-civ-spouse</td>\n",
       "      <td>Transport-moving</td>\n",
       "      <td>Husband</td>\n",
       "      <td>Amer-Indian-Eskimo</td>\n",
       "      <td>Male</td>\n",
       "      <td>19</td>\n",
       "      <td>0</td>\n",
       "      <td>57</td>\n",
       "      <td>United-States</td>\n",
       "      <td>&gt;50K</td>\n",
       "    </tr>\n",
       "    <tr>\n",
       "      <th>3</th>\n",
       "      <td>76</td>\n",
       "      <td>State-gov</td>\n",
       "      <td>181259</td>\n",
       "      <td>Bachelors</td>\n",
       "      <td>12</td>\n",
       "      <td>Married-civ-spouse</td>\n",
       "      <td>Prof-specialty</td>\n",
       "      <td>Husband</td>\n",
       "      <td>White</td>\n",
       "      <td>Male</td>\n",
       "      <td>7720</td>\n",
       "      <td>0</td>\n",
       "      <td>44</td>\n",
       "      <td>United-States</td>\n",
       "      <td>&gt;50K</td>\n",
       "    </tr>\n",
       "    <tr>\n",
       "      <th>4</th>\n",
       "      <td>36</td>\n",
       "      <td>Self-emp-inc</td>\n",
       "      <td>115379</td>\n",
       "      <td>Masters</td>\n",
       "      <td>13</td>\n",
       "      <td>Divorced</td>\n",
       "      <td>Exec-managerial</td>\n",
       "      <td>Not-in-family</td>\n",
       "      <td>White</td>\n",
       "      <td>Male</td>\n",
       "      <td>12</td>\n",
       "      <td>0</td>\n",
       "      <td>58</td>\n",
       "      <td>United-States</td>\n",
       "      <td>&lt;=50K</td>\n",
       "    </tr>\n",
       "  </tbody>\n",
       "</table>\n",
       "</div>"
      ],
      "text/plain": [
       "   age          workclass  fnlwgt   education  education-num  \\\n",
       "0   52            Private   98926     HS-grad              9   \n",
       "1   76   Self-emp-not-inc  132607   Bachelors             12   \n",
       "2   40            Private  243258   Bachelors             13   \n",
       "3   76          State-gov  181259   Bachelors             12   \n",
       "4   36       Self-emp-inc  115379     Masters             13   \n",
       "\n",
       "        marital-status         occupation    relationship  \\\n",
       "0        Never-married      Other-service       Unmarried   \n",
       "1   Married-civ-spouse              Sales         Husband   \n",
       "2   Married-civ-spouse   Transport-moving         Husband   \n",
       "3   Married-civ-spouse     Prof-specialty         Husband   \n",
       "4             Divorced    Exec-managerial   Not-in-family   \n",
       "\n",
       "                  race    sex  capital-gain  capital-loss  hours-per-week  \\\n",
       "0                White   Male            -3             0              44   \n",
       "1                White   Male          7527             0              44   \n",
       "2   Amer-Indian-Eskimo   Male            19             0              57   \n",
       "3                White   Male          7720             0              44   \n",
       "4                White   Male            12             0              58   \n",
       "\n",
       "   native-country  income  \n",
       "0   United-States   <=50K  \n",
       "1   United-States    >50K  \n",
       "2   United-States    >50K  \n",
       "3   United-States    >50K  \n",
       "4   United-States   <=50K  "
      ]
     },
     "execution_count": 3,
     "metadata": {},
     "output_type": "execute_result"
    }
   ],
   "source": [
    "train.head()"
   ]
  },
  {
   "cell_type": "code",
   "execution_count": 4,
   "id": "d1bd653e",
   "metadata": {},
   "outputs": [
    {
     "data": {
      "text/html": [
       "<div>\n",
       "<style scoped>\n",
       "    .dataframe tbody tr th:only-of-type {\n",
       "        vertical-align: middle;\n",
       "    }\n",
       "\n",
       "    .dataframe tbody tr th {\n",
       "        vertical-align: top;\n",
       "    }\n",
       "\n",
       "    .dataframe thead th {\n",
       "        text-align: right;\n",
       "    }\n",
       "</style>\n",
       "<table border=\"1\" class=\"dataframe\">\n",
       "  <thead>\n",
       "    <tr style=\"text-align: right;\">\n",
       "      <th></th>\n",
       "      <th>age</th>\n",
       "      <th>workclass</th>\n",
       "      <th>fnlwgt</th>\n",
       "      <th>education</th>\n",
       "      <th>education-num</th>\n",
       "      <th>marital-status</th>\n",
       "      <th>occupation</th>\n",
       "      <th>relationship</th>\n",
       "      <th>race</th>\n",
       "      <th>sex</th>\n",
       "      <th>capital-gain</th>\n",
       "      <th>capital-loss</th>\n",
       "      <th>native-country</th>\n",
       "      <th>income</th>\n",
       "      <th>hours-per-week</th>\n",
       "    </tr>\n",
       "  </thead>\n",
       "  <tbody>\n",
       "    <tr>\n",
       "      <th>0</th>\n",
       "      <td>40</td>\n",
       "      <td>Without-pay</td>\n",
       "      <td>106899</td>\n",
       "      <td>HS-grad</td>\n",
       "      <td>8</td>\n",
       "      <td>Never-married</td>\n",
       "      <td>Adm-clerical</td>\n",
       "      <td>Own-child</td>\n",
       "      <td>White</td>\n",
       "      <td>Male</td>\n",
       "      <td>0</td>\n",
       "      <td>0</td>\n",
       "      <td>United-States</td>\n",
       "      <td>&lt;=50K</td>\n",
       "      <td>NaN</td>\n",
       "    </tr>\n",
       "    <tr>\n",
       "      <th>1</th>\n",
       "      <td>38</td>\n",
       "      <td>Private</td>\n",
       "      <td>157191</td>\n",
       "      <td>HS-grad</td>\n",
       "      <td>8</td>\n",
       "      <td>Married-civ-spouse</td>\n",
       "      <td>Craft-repair</td>\n",
       "      <td>Husband</td>\n",
       "      <td>Black</td>\n",
       "      <td>Male</td>\n",
       "      <td>0</td>\n",
       "      <td>0</td>\n",
       "      <td>United-States</td>\n",
       "      <td>&lt;=50K</td>\n",
       "      <td>NaN</td>\n",
       "    </tr>\n",
       "    <tr>\n",
       "      <th>2</th>\n",
       "      <td>76</td>\n",
       "      <td>Self-emp-not-inc</td>\n",
       "      <td>102547</td>\n",
       "      <td>Some-college</td>\n",
       "      <td>10</td>\n",
       "      <td>Widowed</td>\n",
       "      <td>Sales</td>\n",
       "      <td>Not-in-family</td>\n",
       "      <td>Asian-Pac-Islander</td>\n",
       "      <td>Female</td>\n",
       "      <td>32</td>\n",
       "      <td>0</td>\n",
       "      <td>United-States</td>\n",
       "      <td>&lt;=50K</td>\n",
       "      <td>NaN</td>\n",
       "    </tr>\n",
       "    <tr>\n",
       "      <th>3</th>\n",
       "      <td>38</td>\n",
       "      <td>Self-emp-not-inc</td>\n",
       "      <td>44426</td>\n",
       "      <td>HS-grad</td>\n",
       "      <td>9</td>\n",
       "      <td>Never-married</td>\n",
       "      <td>Sales</td>\n",
       "      <td>Unmarried</td>\n",
       "      <td>White</td>\n",
       "      <td>Male</td>\n",
       "      <td>30</td>\n",
       "      <td>0</td>\n",
       "      <td>United-States</td>\n",
       "      <td>&gt;50K</td>\n",
       "      <td>NaN</td>\n",
       "    </tr>\n",
       "    <tr>\n",
       "      <th>4</th>\n",
       "      <td>62</td>\n",
       "      <td>Without-pay</td>\n",
       "      <td>33230</td>\n",
       "      <td>HS-grad</td>\n",
       "      <td>9</td>\n",
       "      <td>Married-civ-spouse</td>\n",
       "      <td>Sales</td>\n",
       "      <td>Husband</td>\n",
       "      <td>White</td>\n",
       "      <td>Male</td>\n",
       "      <td>-4</td>\n",
       "      <td>0</td>\n",
       "      <td>United-States</td>\n",
       "      <td>&lt;=50K</td>\n",
       "      <td>NaN</td>\n",
       "    </tr>\n",
       "  </tbody>\n",
       "</table>\n",
       "</div>"
      ],
      "text/plain": [
       "   age          workclass  fnlwgt      education  education-num  \\\n",
       "0   40        Without-pay  106899        HS-grad              8   \n",
       "1   38            Private  157191        HS-grad              8   \n",
       "2   76   Self-emp-not-inc  102547   Some-college             10   \n",
       "3   38   Self-emp-not-inc   44426        HS-grad              9   \n",
       "4   62        Without-pay   33230        HS-grad              9   \n",
       "\n",
       "        marital-status     occupation    relationship                 race  \\\n",
       "0        Never-married   Adm-clerical       Own-child                White   \n",
       "1   Married-civ-spouse   Craft-repair         Husband                Black   \n",
       "2              Widowed          Sales   Not-in-family   Asian-Pac-Islander   \n",
       "3        Never-married          Sales       Unmarried                White   \n",
       "4   Married-civ-spouse          Sales         Husband                White   \n",
       "\n",
       "       sex  capital-gain  capital-loss  native-country  income  hours-per-week  \n",
       "0     Male             0             0   United-States   <=50K             NaN  \n",
       "1     Male             0             0   United-States   <=50K             NaN  \n",
       "2   Female            32             0   United-States   <=50K             NaN  \n",
       "3     Male            30             0   United-States    >50K             NaN  \n",
       "4     Male            -4             0   United-States   <=50K             NaN  "
      ]
     },
     "execution_count": 4,
     "metadata": {},
     "output_type": "execute_result"
    }
   ],
   "source": [
    "test.head()"
   ]
  },
  {
   "cell_type": "code",
   "execution_count": 5,
   "id": "28debee8",
   "metadata": {},
   "outputs": [
    {
     "data": {
      "text/plain": [
       "((18944, 15), (8119, 15))"
      ]
     },
     "execution_count": 5,
     "metadata": {},
     "output_type": "execute_result"
    }
   ],
   "source": [
    "#shape of dataframe\n",
    "train.shape,test.shape"
   ]
  },
  {
   "cell_type": "code",
   "execution_count": 6,
   "id": "6b617e88",
   "metadata": {},
   "outputs": [
    {
     "name": "stdout",
     "output_type": "stream",
     "text": [
      "<class 'pandas.core.frame.DataFrame'>\n",
      "RangeIndex: 18944 entries, 0 to 18943\n",
      "Data columns (total 15 columns):\n",
      " #   Column          Non-Null Count  Dtype \n",
      "---  ------          --------------  ----- \n",
      " 0   age             18944 non-null  int64 \n",
      " 1   workclass       18944 non-null  object\n",
      " 2   fnlwgt          18944 non-null  int64 \n",
      " 3   education       18944 non-null  object\n",
      " 4   education-num   18944 non-null  int64 \n",
      " 5   marital-status  18944 non-null  object\n",
      " 6   occupation      18944 non-null  object\n",
      " 7   relationship    18944 non-null  object\n",
      " 8   race            18944 non-null  object\n",
      " 9   sex             18944 non-null  object\n",
      " 10  capital-gain    18944 non-null  int64 \n",
      " 11  capital-loss    18944 non-null  int64 \n",
      " 12  hours-per-week  18944 non-null  int64 \n",
      " 13  native-country  18944 non-null  object\n",
      " 14  income          18944 non-null  object\n",
      "dtypes: int64(6), object(9)\n",
      "memory usage: 2.2+ MB\n"
     ]
    }
   ],
   "source": [
    "train.info()"
   ]
  },
  {
   "cell_type": "code",
   "execution_count": 7,
   "id": "845a6de5",
   "metadata": {},
   "outputs": [
    {
     "name": "stdout",
     "output_type": "stream",
     "text": [
      "<class 'pandas.core.frame.DataFrame'>\n",
      "RangeIndex: 8119 entries, 0 to 8118\n",
      "Data columns (total 15 columns):\n",
      " #   Column          Non-Null Count  Dtype  \n",
      "---  ------          --------------  -----  \n",
      " 0   age             8119 non-null   int64  \n",
      " 1   workclass       8119 non-null   object \n",
      " 2   fnlwgt          8119 non-null   int64  \n",
      " 3   education       8119 non-null   object \n",
      " 4   education-num   8119 non-null   int64  \n",
      " 5   marital-status  8119 non-null   object \n",
      " 6   occupation      8119 non-null   object \n",
      " 7   relationship    8119 non-null   object \n",
      " 8   race            8119 non-null   object \n",
      " 9   sex             8119 non-null   object \n",
      " 10  capital-gain    8119 non-null   int64  \n",
      " 11  capital-loss    8119 non-null   int64  \n",
      " 12  native-country  8119 non-null   object \n",
      " 13  income          8119 non-null   object \n",
      " 14  hours-per-week  0 non-null      float64\n",
      "dtypes: float64(1), int64(5), object(9)\n",
      "memory usage: 951.6+ KB\n"
     ]
    }
   ],
   "source": [
    "test.info()"
   ]
  },
  {
   "cell_type": "markdown",
   "id": "fd40a229",
   "metadata": {},
   "source": [
    "# NULL value check"
   ]
  },
  {
   "cell_type": "code",
   "execution_count": 9,
   "id": "188c3f0d",
   "metadata": {},
   "outputs": [
    {
     "data": {
      "text/plain": [
       "age               0\n",
       "workclass         0\n",
       "fnlwgt            0\n",
       "education         0\n",
       "education-num     0\n",
       "marital-status    0\n",
       "occupation        0\n",
       "relationship      0\n",
       "race              0\n",
       "sex               0\n",
       "capital-gain      0\n",
       "capital-loss      0\n",
       "hours-per-week    0\n",
       "native-country    0\n",
       "income            0\n",
       "dtype: int64"
      ]
     },
     "execution_count": 9,
     "metadata": {},
     "output_type": "execute_result"
    }
   ],
   "source": [
    "train.isnull().sum()"
   ]
  },
  {
   "cell_type": "code",
   "execution_count": 10,
   "id": "75791c21",
   "metadata": {},
   "outputs": [
    {
     "data": {
      "text/plain": [
       "age                  0\n",
       "workclass            0\n",
       "fnlwgt               0\n",
       "education            0\n",
       "education-num        0\n",
       "marital-status       0\n",
       "occupation           0\n",
       "relationship         0\n",
       "race                 0\n",
       "sex                  0\n",
       "capital-gain         0\n",
       "capital-loss         0\n",
       "native-country       0\n",
       "income               0\n",
       "hours-per-week    8119\n",
       "dtype: int64"
      ]
     },
     "execution_count": 10,
     "metadata": {},
     "output_type": "execute_result"
    }
   ],
   "source": [
    "test.isnull().sum()"
   ]
  },
  {
   "cell_type": "markdown",
   "id": "2e954425",
   "metadata": {},
   "source": [
    "# Data cleaning"
   ]
  },
  {
   "cell_type": "code",
   "execution_count": 11,
   "id": "1ec92b14",
   "metadata": {},
   "outputs": [],
   "source": [
    "test.drop('hours-per-week', axis=1, inplace=True)"
   ]
  },
  {
   "cell_type": "markdown",
   "id": "35f6ab4b",
   "metadata": {},
   "source": [
    "# Data pre processing"
   ]
  },
  {
   "cell_type": "code",
   "execution_count": 12,
   "id": "c1a34fe0",
   "metadata": {},
   "outputs": [
    {
     "data": {
      "text/plain": [
       " Private             11700\n",
       " Self-emp-not-inc     3089\n",
       " Local-gov            1159\n",
       " Federal-gov           995\n",
       " Self-emp-inc          861\n",
       " State-gov             819\n",
       " Without-pay           258\n",
       " Never-worked           63\n",
       "Name: workclass, dtype: int64"
      ]
     },
     "execution_count": 12,
     "metadata": {},
     "output_type": "execute_result"
    }
   ],
   "source": [
    "train.workclass.value_counts()"
   ]
  },
  {
   "cell_type": "code",
   "execution_count": 13,
   "id": "9bf64a69",
   "metadata": {},
   "outputs": [
    {
     "data": {
      "text/plain": [
       " HS-grad         5462\n",
       " Some-college    3745\n",
       " Bachelors       3337\n",
       " 11th            1000\n",
       " Masters          941\n",
       " Assoc-acdm       796\n",
       " Assoc-voc        769\n",
       " 7th-8th          750\n",
       " Prof-school      476\n",
       " Doctorate        387\n",
       " 10th             386\n",
       " 5th-6th          319\n",
       " 9th              200\n",
       " 12th             184\n",
       " 1st-4th          148\n",
       " Preschool         44\n",
       "Name: education, dtype: int64"
      ]
     },
     "execution_count": 13,
     "metadata": {},
     "output_type": "execute_result"
    }
   ],
   "source": [
    "train.education.value_counts()"
   ]
  },
  {
   "cell_type": "code",
   "execution_count": 14,
   "id": "a260d546",
   "metadata": {},
   "outputs": [
    {
     "data": {
      "text/plain": [
       " Married-civ-spouse       8311\n",
       " Never-married            5857\n",
       " Divorced                 2697\n",
       " Separated                 772\n",
       " Widowed                   624\n",
       " Married-spouse-absent     461\n",
       " Married-AF-spouse         222\n",
       "Name: marital-status, dtype: int64"
      ]
     },
     "execution_count": 14,
     "metadata": {},
     "output_type": "execute_result"
    }
   ],
   "source": [
    "train['marital-status'].value_counts()"
   ]
  },
  {
   "cell_type": "code",
   "execution_count": 15,
   "id": "b29514dd",
   "metadata": {},
   "outputs": [
    {
     "data": {
      "text/plain": [
       " Adm-clerical         3957\n",
       " Prof-specialty       2951\n",
       " Other-service        2134\n",
       " Sales                2046\n",
       " Craft-repair         1901\n",
       " Exec-managerial      1543\n",
       " Handlers-cleaners    1126\n",
       " Machine-op-inspct     920\n",
       " Transport-moving      790\n",
       " Farming-fishing       574\n",
       " Tech-support          504\n",
       " Protective-serv       405\n",
       " Priv-house-serv        91\n",
       " Armed-Forces            2\n",
       "Name: occupation, dtype: int64"
      ]
     },
     "execution_count": 15,
     "metadata": {},
     "output_type": "execute_result"
    }
   ],
   "source": [
    "train.occupation.value_counts()"
   ]
  },
  {
   "cell_type": "code",
   "execution_count": 16,
   "id": "e743e211",
   "metadata": {},
   "outputs": [
    {
     "data": {
      "text/plain": [
       " Husband           7164\n",
       " Unmarried         3557\n",
       " Not-in-family     3428\n",
       " Own-child         2768\n",
       " Wife              1090\n",
       " Other-relative     937\n",
       "Name: relationship, dtype: int64"
      ]
     },
     "execution_count": 16,
     "metadata": {},
     "output_type": "execute_result"
    }
   ],
   "source": [
    "train.relationship.value_counts()"
   ]
  },
  {
   "cell_type": "code",
   "execution_count": 17,
   "id": "c7e30afe",
   "metadata": {},
   "outputs": [
    {
     "data": {
      "text/plain": [
       " White                 12682\n",
       " Black                  3565\n",
       " Asian-Pac-Islander     1728\n",
       " Amer-Indian-Eskimo      491\n",
       " Other                   478\n",
       "Name: race, dtype: int64"
      ]
     },
     "execution_count": 17,
     "metadata": {},
     "output_type": "execute_result"
    }
   ],
   "source": [
    "train.race.value_counts()"
   ]
  },
  {
   "cell_type": "code",
   "execution_count": 18,
   "id": "9f8e18fb",
   "metadata": {},
   "outputs": [
    {
     "data": {
      "text/plain": [
       " Male      10727\n",
       " Female     8217\n",
       "Name: sex, dtype: int64"
      ]
     },
     "execution_count": 18,
     "metadata": {},
     "output_type": "execute_result"
    }
   ],
   "source": [
    "train.sex.value_counts()"
   ]
  },
  {
   "cell_type": "code",
   "execution_count": 19,
   "id": "0c952b2e",
   "metadata": {},
   "outputs": [
    {
     "data": {
      "text/plain": [
       " United-States                 16000\n",
       " South                           342\n",
       " Mexico                          329\n",
       " Cuba                            321\n",
       " Puerto-Rico                     283\n",
       " Jamaica                         254\n",
       " Honduras                        247\n",
       " Canada                          236\n",
       " England                         165\n",
       " India                           125\n",
       " Philippines                     112\n",
       " Taiwan                           49\n",
       " Dominican-Republic               48\n",
       " Vietnam                          42\n",
       " Germany                          34\n",
       " China                            29\n",
       " Haiti                            27\n",
       " Poland                           26\n",
       " Italy                            24\n",
       " Guatemala                        24\n",
       " Japan                            22\n",
       " El-Salvador                      22\n",
       " Laos                             19\n",
       " Columbia                         19\n",
       " Iran                             17\n",
       " Thailand                         15\n",
       " Yugoslavia                       13\n",
       " Greece                           12\n",
       " Portugal                         12\n",
       " Peru                             12\n",
       " Nicaragua                        11\n",
       " Ireland                           9\n",
       " Trinadad&Tobago                   9\n",
       " Cambodia                          7\n",
       " Ecuador                           7\n",
       " Outlying-US(Guam-USVI-etc)        6\n",
       " Scotland                          5\n",
       " Hungary                           4\n",
       " Hong                              3\n",
       " Holand-Netherlands                2\n",
       " France                            1\n",
       "Name: native-country, dtype: int64"
      ]
     },
     "execution_count": 19,
     "metadata": {},
     "output_type": "execute_result"
    }
   ],
   "source": [
    "train['native-country'].value_counts()"
   ]
  },
  {
   "cell_type": "code",
   "execution_count": 21,
   "id": "db2dabd9",
   "metadata": {},
   "outputs": [
    {
     "data": {
      "text/html": [
       "<div>\n",
       "<style scoped>\n",
       "    .dataframe tbody tr th:only-of-type {\n",
       "        vertical-align: middle;\n",
       "    }\n",
       "\n",
       "    .dataframe tbody tr th {\n",
       "        vertical-align: top;\n",
       "    }\n",
       "\n",
       "    .dataframe thead th {\n",
       "        text-align: right;\n",
       "    }\n",
       "</style>\n",
       "<table border=\"1\" class=\"dataframe\">\n",
       "  <thead>\n",
       "    <tr style=\"text-align: right;\">\n",
       "      <th></th>\n",
       "      <th>count</th>\n",
       "      <th>mean</th>\n",
       "      <th>std</th>\n",
       "      <th>min</th>\n",
       "      <th>25%</th>\n",
       "      <th>50%</th>\n",
       "      <th>75%</th>\n",
       "      <th>max</th>\n",
       "    </tr>\n",
       "  </thead>\n",
       "  <tbody>\n",
       "    <tr>\n",
       "      <th>age</th>\n",
       "      <td>18944.0</td>\n",
       "      <td>39.266470</td>\n",
       "      <td>13.395878</td>\n",
       "      <td>14.0</td>\n",
       "      <td>28.00</td>\n",
       "      <td>40.0</td>\n",
       "      <td>47.0</td>\n",
       "      <td>99.0</td>\n",
       "    </tr>\n",
       "    <tr>\n",
       "      <th>fnlwgt</th>\n",
       "      <td>18944.0</td>\n",
       "      <td>164292.035156</td>\n",
       "      <td>93425.986084</td>\n",
       "      <td>8019.0</td>\n",
       "      <td>98530.75</td>\n",
       "      <td>152895.5</td>\n",
       "      <td>215541.0</td>\n",
       "      <td>772988.0</td>\n",
       "    </tr>\n",
       "    <tr>\n",
       "      <th>education-num</th>\n",
       "      <td>18944.0</td>\n",
       "      <td>9.479043</td>\n",
       "      <td>2.830047</td>\n",
       "      <td>2.0</td>\n",
       "      <td>8.00</td>\n",
       "      <td>9.0</td>\n",
       "      <td>12.0</td>\n",
       "      <td>16.0</td>\n",
       "    </tr>\n",
       "    <tr>\n",
       "      <th>capital-gain</th>\n",
       "      <td>18944.0</td>\n",
       "      <td>577.476510</td>\n",
       "      <td>2414.473217</td>\n",
       "      <td>-58.0</td>\n",
       "      <td>-5.00</td>\n",
       "      <td>5.0</td>\n",
       "      <td>17.0</td>\n",
       "      <td>16193.0</td>\n",
       "    </tr>\n",
       "    <tr>\n",
       "      <th>capital-loss</th>\n",
       "      <td>18944.0</td>\n",
       "      <td>33.082823</td>\n",
       "      <td>248.521486</td>\n",
       "      <td>-2.0</td>\n",
       "      <td>0.00</td>\n",
       "      <td>0.0</td>\n",
       "      <td>0.0</td>\n",
       "      <td>2437.0</td>\n",
       "    </tr>\n",
       "    <tr>\n",
       "      <th>hours-per-week</th>\n",
       "      <td>18944.0</td>\n",
       "      <td>40.119299</td>\n",
       "      <td>11.124649</td>\n",
       "      <td>1.0</td>\n",
       "      <td>35.00</td>\n",
       "      <td>39.0</td>\n",
       "      <td>44.0</td>\n",
       "      <td>102.0</td>\n",
       "    </tr>\n",
       "  </tbody>\n",
       "</table>\n",
       "</div>"
      ],
      "text/plain": [
       "                  count           mean           std     min       25%  \\\n",
       "age             18944.0      39.266470     13.395878    14.0     28.00   \n",
       "fnlwgt          18944.0  164292.035156  93425.986084  8019.0  98530.75   \n",
       "education-num   18944.0       9.479043      2.830047     2.0      8.00   \n",
       "capital-gain    18944.0     577.476510   2414.473217   -58.0     -5.00   \n",
       "capital-loss    18944.0      33.082823    248.521486    -2.0      0.00   \n",
       "hours-per-week  18944.0      40.119299     11.124649     1.0     35.00   \n",
       "\n",
       "                     50%       75%       max  \n",
       "age                 40.0      47.0      99.0  \n",
       "fnlwgt          152895.5  215541.0  772988.0  \n",
       "education-num        9.0      12.0      16.0  \n",
       "capital-gain         5.0      17.0   16193.0  \n",
       "capital-loss         0.0       0.0    2437.0  \n",
       "hours-per-week      39.0      44.0     102.0  "
      ]
     },
     "execution_count": 21,
     "metadata": {},
     "output_type": "execute_result"
    }
   ],
   "source": [
    "train.describe().T"
   ]
  },
  {
   "cell_type": "code",
   "execution_count": 23,
   "id": "4c27354e",
   "metadata": {},
   "outputs": [
    {
     "data": {
      "text/html": [
       "<div>\n",
       "<style scoped>\n",
       "    .dataframe tbody tr th:only-of-type {\n",
       "        vertical-align: middle;\n",
       "    }\n",
       "\n",
       "    .dataframe tbody tr th {\n",
       "        vertical-align: top;\n",
       "    }\n",
       "\n",
       "    .dataframe thead th {\n",
       "        text-align: right;\n",
       "    }\n",
       "</style>\n",
       "<table border=\"1\" class=\"dataframe\">\n",
       "  <thead>\n",
       "    <tr style=\"text-align: right;\">\n",
       "      <th></th>\n",
       "      <th>count</th>\n",
       "      <th>mean</th>\n",
       "      <th>std</th>\n",
       "      <th>min</th>\n",
       "      <th>25%</th>\n",
       "      <th>50%</th>\n",
       "      <th>75%</th>\n",
       "      <th>max</th>\n",
       "    </tr>\n",
       "  </thead>\n",
       "  <tbody>\n",
       "    <tr>\n",
       "      <th>age</th>\n",
       "      <td>8119.0</td>\n",
       "      <td>39.129573</td>\n",
       "      <td>13.183245</td>\n",
       "      <td>14.0</td>\n",
       "      <td>28.0</td>\n",
       "      <td>40.0</td>\n",
       "      <td>47.0</td>\n",
       "      <td>93.0</td>\n",
       "    </tr>\n",
       "    <tr>\n",
       "      <th>fnlwgt</th>\n",
       "      <td>8119.0</td>\n",
       "      <td>164595.754773</td>\n",
       "      <td>95241.110265</td>\n",
       "      <td>2097.0</td>\n",
       "      <td>99101.0</td>\n",
       "      <td>150989.0</td>\n",
       "      <td>215068.5</td>\n",
       "      <td>794888.0</td>\n",
       "    </tr>\n",
       "    <tr>\n",
       "      <th>education-num</th>\n",
       "      <td>8119.0</td>\n",
       "      <td>9.433305</td>\n",
       "      <td>2.838288</td>\n",
       "      <td>0.0</td>\n",
       "      <td>8.0</td>\n",
       "      <td>9.0</td>\n",
       "      <td>12.0</td>\n",
       "      <td>16.0</td>\n",
       "    </tr>\n",
       "    <tr>\n",
       "      <th>capital-gain</th>\n",
       "      <td>8119.0</td>\n",
       "      <td>563.732972</td>\n",
       "      <td>2393.666344</td>\n",
       "      <td>-60.0</td>\n",
       "      <td>-5.0</td>\n",
       "      <td>5.0</td>\n",
       "      <td>17.0</td>\n",
       "      <td>15866.0</td>\n",
       "    </tr>\n",
       "    <tr>\n",
       "      <th>capital-loss</th>\n",
       "      <td>8119.0</td>\n",
       "      <td>34.185860</td>\n",
       "      <td>252.497339</td>\n",
       "      <td>-2.0</td>\n",
       "      <td>0.0</td>\n",
       "      <td>0.0</td>\n",
       "      <td>0.0</td>\n",
       "      <td>2264.0</td>\n",
       "    </tr>\n",
       "  </tbody>\n",
       "</table>\n",
       "</div>"
      ],
      "text/plain": [
       "                count           mean           std     min      25%       50%  \\\n",
       "age            8119.0      39.129573     13.183245    14.0     28.0      40.0   \n",
       "fnlwgt         8119.0  164595.754773  95241.110265  2097.0  99101.0  150989.0   \n",
       "education-num  8119.0       9.433305      2.838288     0.0      8.0       9.0   \n",
       "capital-gain   8119.0     563.732972   2393.666344   -60.0     -5.0       5.0   \n",
       "capital-loss   8119.0      34.185860    252.497339    -2.0      0.0       0.0   \n",
       "\n",
       "                    75%       max  \n",
       "age                47.0      93.0  \n",
       "fnlwgt         215068.5  794888.0  \n",
       "education-num      12.0      16.0  \n",
       "capital-gain       17.0   15866.0  \n",
       "capital-loss        0.0    2264.0  "
      ]
     },
     "execution_count": 23,
     "metadata": {},
     "output_type": "execute_result"
    }
   ],
   "source": [
    "test.describe().T"
   ]
  },
  {
   "cell_type": "code",
   "execution_count": 25,
   "id": "5d7ed337",
   "metadata": {},
   "outputs": [
    {
     "data": {
      "text/plain": [
       "Index(['workclass', 'education', 'marital-status', 'occupation',\n",
       "       'relationship', 'race', 'sex', 'native-country', 'income'],\n",
       "      dtype='object')"
      ]
     },
     "execution_count": 25,
     "metadata": {},
     "output_type": "execute_result"
    }
   ],
   "source": [
    "train.select_dtypes(include='object').columns"
   ]
  },
  {
   "cell_type": "code",
   "execution_count": 26,
   "id": "182a4bba",
   "metadata": {},
   "outputs": [
    {
     "data": {
      "text/plain": [
       "Index(['age', 'fnlwgt', 'education-num', 'capital-gain', 'capital-loss',\n",
       "       'hours-per-week'],\n",
       "      dtype='object')"
      ]
     },
     "execution_count": 26,
     "metadata": {},
     "output_type": "execute_result"
    }
   ],
   "source": [
    "train.select_dtypes(include='number').columns"
   ]
  },
  {
   "cell_type": "code",
   "execution_count": 27,
   "id": "7d4ee47c",
   "metadata": {},
   "outputs": [],
   "source": [
    "train_scaled = train.copy()\n",
    "test_scaled = test.copy()"
   ]
  },
  {
   "cell_type": "code",
   "execution_count": 28,
   "id": "2ae08762",
   "metadata": {},
   "outputs": [],
   "source": [
    "#Label encoding\n",
    "le = LabelEncoder()\n",
    "cat_var = train.select_dtypes(include='object').columns\n",
    "\n",
    "for i in cat_var:\n",
    "    train_scaled[i] = pd.DataFrame(le.fit_transform(train[i]))\n",
    "    \n",
    "for i in cat_var:\n",
    "    test_scaled[i] = pd.DataFrame(le.fit_transform(test[i]))"
   ]
  },
  {
   "cell_type": "code",
   "execution_count": 29,
   "id": "721079a9",
   "metadata": {},
   "outputs": [],
   "source": [
    "#Scaling\n",
    "std = StandardScaler()\n",
    "\n",
    "#Train set\n",
    "scaled_train = pd.DataFrame(std.fit_transform(train[['age', 'fnlwgt', 'education-num', 'capital-gain', 'capital-loss']]), \n",
    "                                              columns=['age', 'fnlwgt', 'education-num', 'capital-gain', 'capital-loss'])\n",
    "\n",
    "train_scaled = train_scaled.drop(columns=['age', 'fnlwgt', 'education-num', 'capital-gain', 'capital-loss'], axis=1)\n",
    "train_scaled = train_scaled.merge(scaled_train, left_index=True, right_index=True, how=\"left\")\n",
    "    \n",
    "#Test set\n",
    "scaled_test = pd.DataFrame(std.fit_transform(test[['age', 'fnlwgt', 'education-num', 'capital-gain', 'capital-loss']]),\n",
    "                                             columns=['age', 'fnlwgt', 'education-num', 'capital-gain', 'capital-loss'])\n",
    "\n",
    "test_scaled = test_scaled.drop(columns=['age', 'fnlwgt', 'education-num', 'capital-gain', 'capital-loss'], axis=1)\n",
    "test_scaled = test_scaled.merge(scaled_test, left_index=True, right_index=True, how=\"left\")"
   ]
  },
  {
   "cell_type": "code",
   "execution_count": 30,
   "id": "2fa1b3c7",
   "metadata": {},
   "outputs": [
    {
     "data": {
      "text/html": [
       "<div>\n",
       "<style scoped>\n",
       "    .dataframe tbody tr th:only-of-type {\n",
       "        vertical-align: middle;\n",
       "    }\n",
       "\n",
       "    .dataframe tbody tr th {\n",
       "        vertical-align: top;\n",
       "    }\n",
       "\n",
       "    .dataframe thead th {\n",
       "        text-align: right;\n",
       "    }\n",
       "</style>\n",
       "<table border=\"1\" class=\"dataframe\">\n",
       "  <thead>\n",
       "    <tr style=\"text-align: right;\">\n",
       "      <th></th>\n",
       "      <th>count</th>\n",
       "      <th>mean</th>\n",
       "      <th>std</th>\n",
       "      <th>min</th>\n",
       "      <th>25%</th>\n",
       "      <th>50%</th>\n",
       "      <th>75%</th>\n",
       "      <th>max</th>\n",
       "    </tr>\n",
       "  </thead>\n",
       "  <tbody>\n",
       "    <tr>\n",
       "      <th>workclass</th>\n",
       "      <td>18944.0</td>\n",
       "      <td>3.272487e+00</td>\n",
       "      <td>1.396888</td>\n",
       "      <td>0.000000</td>\n",
       "      <td>3.000000</td>\n",
       "      <td>3.000000</td>\n",
       "      <td>4.000000</td>\n",
       "      <td>7.000000</td>\n",
       "    </tr>\n",
       "    <tr>\n",
       "      <th>education</th>\n",
       "      <td>18944.0</td>\n",
       "      <td>9.947741e+00</td>\n",
       "      <td>3.955957</td>\n",
       "      <td>0.000000</td>\n",
       "      <td>9.000000</td>\n",
       "      <td>11.000000</td>\n",
       "      <td>12.000000</td>\n",
       "      <td>15.000000</td>\n",
       "    </tr>\n",
       "    <tr>\n",
       "      <th>marital-status</th>\n",
       "      <td>18944.0</td>\n",
       "      <td>2.600243e+00</td>\n",
       "      <td>1.541378</td>\n",
       "      <td>0.000000</td>\n",
       "      <td>2.000000</td>\n",
       "      <td>2.000000</td>\n",
       "      <td>4.000000</td>\n",
       "      <td>6.000000</td>\n",
       "    </tr>\n",
       "    <tr>\n",
       "      <th>occupation</th>\n",
       "      <td>18944.0</td>\n",
       "      <td>5.647065e+00</td>\n",
       "      <td>4.182706</td>\n",
       "      <td>0.000000</td>\n",
       "      <td>2.000000</td>\n",
       "      <td>6.000000</td>\n",
       "      <td>9.000000</td>\n",
       "      <td>13.000000</td>\n",
       "    </tr>\n",
       "    <tr>\n",
       "      <th>relationship</th>\n",
       "      <td>18944.0</td>\n",
       "      <td>1.756968e+00</td>\n",
       "      <td>1.746348</td>\n",
       "      <td>0.000000</td>\n",
       "      <td>0.000000</td>\n",
       "      <td>1.000000</td>\n",
       "      <td>3.000000</td>\n",
       "      <td>5.000000</td>\n",
       "    </tr>\n",
       "    <tr>\n",
       "      <th>race</th>\n",
       "      <td>18944.0</td>\n",
       "      <td>3.221073e+00</td>\n",
       "      <td>1.186156</td>\n",
       "      <td>0.000000</td>\n",
       "      <td>2.000000</td>\n",
       "      <td>4.000000</td>\n",
       "      <td>4.000000</td>\n",
       "      <td>4.000000</td>\n",
       "    </tr>\n",
       "    <tr>\n",
       "      <th>sex</th>\n",
       "      <td>18944.0</td>\n",
       "      <td>5.662479e-01</td>\n",
       "      <td>0.495605</td>\n",
       "      <td>0.000000</td>\n",
       "      <td>0.000000</td>\n",
       "      <td>1.000000</td>\n",
       "      <td>1.000000</td>\n",
       "      <td>1.000000</td>\n",
       "    </tr>\n",
       "    <tr>\n",
       "      <th>hours-per-week</th>\n",
       "      <td>18944.0</td>\n",
       "      <td>4.011930e+01</td>\n",
       "      <td>11.124649</td>\n",
       "      <td>1.000000</td>\n",
       "      <td>35.000000</td>\n",
       "      <td>39.000000</td>\n",
       "      <td>44.000000</td>\n",
       "      <td>102.000000</td>\n",
       "    </tr>\n",
       "    <tr>\n",
       "      <th>native-country</th>\n",
       "      <td>18944.0</td>\n",
       "      <td>3.511249e+01</td>\n",
       "      <td>8.178786</td>\n",
       "      <td>0.000000</td>\n",
       "      <td>38.000000</td>\n",
       "      <td>38.000000</td>\n",
       "      <td>38.000000</td>\n",
       "      <td>40.000000</td>\n",
       "    </tr>\n",
       "    <tr>\n",
       "      <th>income</th>\n",
       "      <td>18944.0</td>\n",
       "      <td>2.864759e-01</td>\n",
       "      <td>0.452126</td>\n",
       "      <td>0.000000</td>\n",
       "      <td>0.000000</td>\n",
       "      <td>0.000000</td>\n",
       "      <td>1.000000</td>\n",
       "      <td>1.000000</td>\n",
       "    </tr>\n",
       "    <tr>\n",
       "      <th>age</th>\n",
       "      <td>18944.0</td>\n",
       "      <td>-1.038255e-16</td>\n",
       "      <td>1.000026</td>\n",
       "      <td>-1.886187</td>\n",
       "      <td>-0.841062</td>\n",
       "      <td>0.054759</td>\n",
       "      <td>0.577322</td>\n",
       "      <td>4.459215</td>\n",
       "    </tr>\n",
       "    <tr>\n",
       "      <th>fnlwgt</th>\n",
       "      <td>18944.0</td>\n",
       "      <td>3.320003e-18</td>\n",
       "      <td>1.000026</td>\n",
       "      <td>-1.672738</td>\n",
       "      <td>-0.703905</td>\n",
       "      <td>-0.121988</td>\n",
       "      <td>0.548566</td>\n",
       "      <td>6.515447</td>\n",
       "    </tr>\n",
       "    <tr>\n",
       "      <th>education-num</th>\n",
       "      <td>18944.0</td>\n",
       "      <td>1.026991e-15</td>\n",
       "      <td>1.000026</td>\n",
       "      <td>-2.642797</td>\n",
       "      <td>-0.522635</td>\n",
       "      <td>-0.169275</td>\n",
       "      <td>0.890806</td>\n",
       "      <td>2.304247</td>\n",
       "    </tr>\n",
       "    <tr>\n",
       "      <th>capital-gain</th>\n",
       "      <td>18944.0</td>\n",
       "      <td>1.598788e-16</td>\n",
       "      <td>1.000026</td>\n",
       "      <td>-0.263202</td>\n",
       "      <td>-0.241250</td>\n",
       "      <td>-0.237108</td>\n",
       "      <td>-0.232138</td>\n",
       "      <td>6.467637</td>\n",
       "    </tr>\n",
       "    <tr>\n",
       "      <th>capital-loss</th>\n",
       "      <td>18944.0</td>\n",
       "      <td>2.393244e-16</td>\n",
       "      <td>1.000026</td>\n",
       "      <td>-0.141170</td>\n",
       "      <td>-0.133122</td>\n",
       "      <td>-0.133122</td>\n",
       "      <td>-0.133122</td>\n",
       "      <td>9.673130</td>\n",
       "    </tr>\n",
       "  </tbody>\n",
       "</table>\n",
       "</div>"
      ],
      "text/plain": [
       "                  count          mean        std       min        25%  \\\n",
       "workclass       18944.0  3.272487e+00   1.396888  0.000000   3.000000   \n",
       "education       18944.0  9.947741e+00   3.955957  0.000000   9.000000   \n",
       "marital-status  18944.0  2.600243e+00   1.541378  0.000000   2.000000   \n",
       "occupation      18944.0  5.647065e+00   4.182706  0.000000   2.000000   \n",
       "relationship    18944.0  1.756968e+00   1.746348  0.000000   0.000000   \n",
       "race            18944.0  3.221073e+00   1.186156  0.000000   2.000000   \n",
       "sex             18944.0  5.662479e-01   0.495605  0.000000   0.000000   \n",
       "hours-per-week  18944.0  4.011930e+01  11.124649  1.000000  35.000000   \n",
       "native-country  18944.0  3.511249e+01   8.178786  0.000000  38.000000   \n",
       "income          18944.0  2.864759e-01   0.452126  0.000000   0.000000   \n",
       "age             18944.0 -1.038255e-16   1.000026 -1.886187  -0.841062   \n",
       "fnlwgt          18944.0  3.320003e-18   1.000026 -1.672738  -0.703905   \n",
       "education-num   18944.0  1.026991e-15   1.000026 -2.642797  -0.522635   \n",
       "capital-gain    18944.0  1.598788e-16   1.000026 -0.263202  -0.241250   \n",
       "capital-loss    18944.0  2.393244e-16   1.000026 -0.141170  -0.133122   \n",
       "\n",
       "                      50%        75%         max  \n",
       "workclass        3.000000   4.000000    7.000000  \n",
       "education       11.000000  12.000000   15.000000  \n",
       "marital-status   2.000000   4.000000    6.000000  \n",
       "occupation       6.000000   9.000000   13.000000  \n",
       "relationship     1.000000   3.000000    5.000000  \n",
       "race             4.000000   4.000000    4.000000  \n",
       "sex              1.000000   1.000000    1.000000  \n",
       "hours-per-week  39.000000  44.000000  102.000000  \n",
       "native-country  38.000000  38.000000   40.000000  \n",
       "income           0.000000   1.000000    1.000000  \n",
       "age              0.054759   0.577322    4.459215  \n",
       "fnlwgt          -0.121988   0.548566    6.515447  \n",
       "education-num   -0.169275   0.890806    2.304247  \n",
       "capital-gain    -0.237108  -0.232138    6.467637  \n",
       "capital-loss    -0.133122  -0.133122    9.673130  "
      ]
     },
     "execution_count": 30,
     "metadata": {},
     "output_type": "execute_result"
    }
   ],
   "source": [
    "train_scaled.describe().T"
   ]
  },
  {
   "cell_type": "code",
   "execution_count": 31,
   "id": "cdac81a2",
   "metadata": {},
   "outputs": [
    {
     "data": {
      "text/html": [
       "<div>\n",
       "<style scoped>\n",
       "    .dataframe tbody tr th:only-of-type {\n",
       "        vertical-align: middle;\n",
       "    }\n",
       "\n",
       "    .dataframe tbody tr th {\n",
       "        vertical-align: top;\n",
       "    }\n",
       "\n",
       "    .dataframe thead th {\n",
       "        text-align: right;\n",
       "    }\n",
       "</style>\n",
       "<table border=\"1\" class=\"dataframe\">\n",
       "  <thead>\n",
       "    <tr style=\"text-align: right;\">\n",
       "      <th></th>\n",
       "      <th>count</th>\n",
       "      <th>mean</th>\n",
       "      <th>std</th>\n",
       "      <th>min</th>\n",
       "      <th>25%</th>\n",
       "      <th>50%</th>\n",
       "      <th>75%</th>\n",
       "      <th>max</th>\n",
       "    </tr>\n",
       "  </thead>\n",
       "  <tbody>\n",
       "    <tr>\n",
       "      <th>workclass</th>\n",
       "      <td>8119.0</td>\n",
       "      <td>3.271585e+00</td>\n",
       "      <td>1.396250</td>\n",
       "      <td>0.000000</td>\n",
       "      <td>3.000000</td>\n",
       "      <td>3.000000</td>\n",
       "      <td>4.000000</td>\n",
       "      <td>7.000000</td>\n",
       "    </tr>\n",
       "    <tr>\n",
       "      <th>education</th>\n",
       "      <td>8119.0</td>\n",
       "      <td>9.976352e+00</td>\n",
       "      <td>3.979181</td>\n",
       "      <td>0.000000</td>\n",
       "      <td>9.000000</td>\n",
       "      <td>11.000000</td>\n",
       "      <td>12.000000</td>\n",
       "      <td>15.000000</td>\n",
       "    </tr>\n",
       "    <tr>\n",
       "      <th>marital-status</th>\n",
       "      <td>8119.0</td>\n",
       "      <td>2.588250e+00</td>\n",
       "      <td>1.552582</td>\n",
       "      <td>0.000000</td>\n",
       "      <td>2.000000</td>\n",
       "      <td>2.000000</td>\n",
       "      <td>4.000000</td>\n",
       "      <td>6.000000</td>\n",
       "    </tr>\n",
       "    <tr>\n",
       "      <th>occupation</th>\n",
       "      <td>8119.0</td>\n",
       "      <td>5.627417e+00</td>\n",
       "      <td>4.194518</td>\n",
       "      <td>0.000000</td>\n",
       "      <td>2.000000</td>\n",
       "      <td>6.000000</td>\n",
       "      <td>9.000000</td>\n",
       "      <td>13.000000</td>\n",
       "    </tr>\n",
       "    <tr>\n",
       "      <th>relationship</th>\n",
       "      <td>8119.0</td>\n",
       "      <td>1.766104e+00</td>\n",
       "      <td>1.741938</td>\n",
       "      <td>0.000000</td>\n",
       "      <td>0.000000</td>\n",
       "      <td>1.000000</td>\n",
       "      <td>3.000000</td>\n",
       "      <td>5.000000</td>\n",
       "    </tr>\n",
       "    <tr>\n",
       "      <th>race</th>\n",
       "      <td>8119.0</td>\n",
       "      <td>3.223427e+00</td>\n",
       "      <td>1.186621</td>\n",
       "      <td>0.000000</td>\n",
       "      <td>2.000000</td>\n",
       "      <td>4.000000</td>\n",
       "      <td>4.000000</td>\n",
       "      <td>4.000000</td>\n",
       "    </tr>\n",
       "    <tr>\n",
       "      <th>sex</th>\n",
       "      <td>8119.0</td>\n",
       "      <td>5.637394e-01</td>\n",
       "      <td>0.495951</td>\n",
       "      <td>0.000000</td>\n",
       "      <td>0.000000</td>\n",
       "      <td>1.000000</td>\n",
       "      <td>1.000000</td>\n",
       "      <td>1.000000</td>\n",
       "    </tr>\n",
       "    <tr>\n",
       "      <th>native-country</th>\n",
       "      <td>8119.0</td>\n",
       "      <td>3.324276e+01</td>\n",
       "      <td>7.764618</td>\n",
       "      <td>0.000000</td>\n",
       "      <td>36.000000</td>\n",
       "      <td>36.000000</td>\n",
       "      <td>36.000000</td>\n",
       "      <td>38.000000</td>\n",
       "    </tr>\n",
       "    <tr>\n",
       "      <th>income</th>\n",
       "      <td>8119.0</td>\n",
       "      <td>2.839020e-01</td>\n",
       "      <td>0.450918</td>\n",
       "      <td>0.000000</td>\n",
       "      <td>0.000000</td>\n",
       "      <td>0.000000</td>\n",
       "      <td>1.000000</td>\n",
       "      <td>1.000000</td>\n",
       "    </tr>\n",
       "    <tr>\n",
       "      <th>age</th>\n",
       "      <td>8119.0</td>\n",
       "      <td>1.603731e-16</td>\n",
       "      <td>1.000062</td>\n",
       "      <td>-1.906292</td>\n",
       "      <td>-0.844273</td>\n",
       "      <td>0.066029</td>\n",
       "      <td>0.597039</td>\n",
       "      <td>4.086532</td>\n",
       "    </tr>\n",
       "    <tr>\n",
       "      <th>fnlwgt</th>\n",
       "      <td>8119.0</td>\n",
       "      <td>4.682108e-17</td>\n",
       "      <td>1.000062</td>\n",
       "      <td>-1.706288</td>\n",
       "      <td>-0.687716</td>\n",
       "      <td>-0.142875</td>\n",
       "      <td>0.529980</td>\n",
       "      <td>6.618267</td>\n",
       "    </tr>\n",
       "    <tr>\n",
       "      <th>education-num</th>\n",
       "      <td>8119.0</td>\n",
       "      <td>-5.080033e-16</td>\n",
       "      <td>1.000062</td>\n",
       "      <td>-3.323794</td>\n",
       "      <td>-0.505020</td>\n",
       "      <td>-0.152673</td>\n",
       "      <td>0.904367</td>\n",
       "      <td>2.313754</td>\n",
       "    </tr>\n",
       "    <tr>\n",
       "      <th>capital-gain</th>\n",
       "      <td>8119.0</td>\n",
       "      <td>2.849399e-17</td>\n",
       "      <td>1.000062</td>\n",
       "      <td>-0.260592</td>\n",
       "      <td>-0.237614</td>\n",
       "      <td>-0.233436</td>\n",
       "      <td>-0.228422</td>\n",
       "      <td>6.393209</td>\n",
       "    </tr>\n",
       "    <tr>\n",
       "      <th>capital-loss</th>\n",
       "      <td>8119.0</td>\n",
       "      <td>-6.729778e-16</td>\n",
       "      <td>1.000062</td>\n",
       "      <td>-0.143321</td>\n",
       "      <td>-0.135399</td>\n",
       "      <td>-0.135399</td>\n",
       "      <td>-0.135399</td>\n",
       "      <td>8.831584</td>\n",
       "    </tr>\n",
       "  </tbody>\n",
       "</table>\n",
       "</div>"
      ],
      "text/plain": [
       "                 count          mean       std       min        25%  \\\n",
       "workclass       8119.0  3.271585e+00  1.396250  0.000000   3.000000   \n",
       "education       8119.0  9.976352e+00  3.979181  0.000000   9.000000   \n",
       "marital-status  8119.0  2.588250e+00  1.552582  0.000000   2.000000   \n",
       "occupation      8119.0  5.627417e+00  4.194518  0.000000   2.000000   \n",
       "relationship    8119.0  1.766104e+00  1.741938  0.000000   0.000000   \n",
       "race            8119.0  3.223427e+00  1.186621  0.000000   2.000000   \n",
       "sex             8119.0  5.637394e-01  0.495951  0.000000   0.000000   \n",
       "native-country  8119.0  3.324276e+01  7.764618  0.000000  36.000000   \n",
       "income          8119.0  2.839020e-01  0.450918  0.000000   0.000000   \n",
       "age             8119.0  1.603731e-16  1.000062 -1.906292  -0.844273   \n",
       "fnlwgt          8119.0  4.682108e-17  1.000062 -1.706288  -0.687716   \n",
       "education-num   8119.0 -5.080033e-16  1.000062 -3.323794  -0.505020   \n",
       "capital-gain    8119.0  2.849399e-17  1.000062 -0.260592  -0.237614   \n",
       "capital-loss    8119.0 -6.729778e-16  1.000062 -0.143321  -0.135399   \n",
       "\n",
       "                      50%        75%        max  \n",
       "workclass        3.000000   4.000000   7.000000  \n",
       "education       11.000000  12.000000  15.000000  \n",
       "marital-status   2.000000   4.000000   6.000000  \n",
       "occupation       6.000000   9.000000  13.000000  \n",
       "relationship     1.000000   3.000000   5.000000  \n",
       "race             4.000000   4.000000   4.000000  \n",
       "sex              1.000000   1.000000   1.000000  \n",
       "native-country  36.000000  36.000000  38.000000  \n",
       "income           0.000000   1.000000   1.000000  \n",
       "age              0.066029   0.597039   4.086532  \n",
       "fnlwgt          -0.142875   0.529980   6.618267  \n",
       "education-num   -0.152673   0.904367   2.313754  \n",
       "capital-gain    -0.233436  -0.228422   6.393209  \n",
       "capital-loss    -0.135399  -0.135399   8.831584  "
      ]
     },
     "execution_count": 31,
     "metadata": {},
     "output_type": "execute_result"
    }
   ],
   "source": [
    "test_scaled.describe().T"
   ]
  },
  {
   "cell_type": "code",
   "execution_count": 32,
   "id": "a8444216",
   "metadata": {},
   "outputs": [
    {
     "data": {
      "text/plain": [
       "<AxesSubplot:>"
      ]
     },
     "execution_count": 32,
     "metadata": {},
     "output_type": "execute_result"
    },
    {
     "data": {
      "image/png": "[encoded data removed]",
      "text/plain": [
       "<Figure size 1080x720 with 2 Axes>"
      ]
     },
     "metadata": {
      "needs_background": "light"
     },
     "output_type": "display_data"
    }
   ],
   "source": [
    "plt.figure(figsize=(15,10))\n",
    "sns.heatmap(train_scaled.corr(),annot=True,cmap='Reds',linewidths=0.6)"
   ]
  },
  {
   "cell_type": "code",
   "execution_count": 33,
   "id": "e5fc952b",
   "metadata": {},
   "outputs": [
    {
     "data": {
      "text/plain": [
       "<AxesSubplot:>"
      ]
     },
     "execution_count": 33,
     "metadata": {},
     "output_type": "execute_result"
    },
    {
     "data": {
      "image/png": "[encoded data removed]",
      "text/plain": [
       "<Figure size 1080x720 with 2 Axes>"
      ]
     },
     "metadata": {
      "needs_background": "light"
     },
     "output_type": "display_data"
    }
   ],
   "source": [
    "plt.figure(figsize=(15,10))\n",
    "sns.heatmap(test_scaled.corr(), annot=True, cmap='Reds', linewidths=0.6)"
   ]
  },
  {
   "cell_type": "markdown",
   "id": "49eb7ff4",
   "metadata": {},
   "source": [
    "# Model Building"
   ]
  },
  {
   "cell_type": "code",
   "execution_count": 34,
   "id": "f9ee7dad",
   "metadata": {},
   "outputs": [],
   "source": [
    "#select features and Target\n",
    "\n",
    "X=train_scaled.drop('hours-per-week',axis=1)\n",
    "y=train_scaled['hours-per-week']"
   ]
  },
  {
   "cell_type": "code",
   "execution_count": 35,
   "id": "5cdccd20",
   "metadata": {},
   "outputs": [],
   "source": [
    "#20% data as validation set\n",
    "X_train, X_test, y_train, y_test = train_test_split(X, y, test_size=0.2, random_state=40)"
   ]
  },
  {
   "cell_type": "code",
   "execution_count": 36,
   "id": "0bc21b75",
   "metadata": {},
   "outputs": [
    {
     "name": "stdout",
     "output_type": "stream",
     "text": [
      "LinearRegression : 10.312608551632598\n",
      "KNeighbours : 10.92057701659106\n",
      "DecisionTree : 14.368606361535669\n",
      "RandomForest : 10.26380181954883\n",
      "GradientBoosting : 9.985211717781644\n"
     ]
    }
   ],
   "source": [
    "classifiers = [['LinearRegression :', LinearRegression()],\n",
    "               ['KNeighbours :', KNeighborsRegressor()],\n",
    "               ['DecisionTree :',DecisionTreeRegressor()],\n",
    "               ['RandomForest :',RandomForestRegressor()], \n",
    "               ['GradientBoosting :', GradientBoostingRegressor()]]\n",
    "\n",
    "for name, classifier in classifiers:\n",
    "    classifier.fit(X_train, y_train)\n",
    "    y_pred = classifier.predict(X_test)\n",
    "    mse = mean_squared_error(y_test, y_pred)\n",
    "    #rmse = np.sqrt(mse)\n",
    "    print(name, np.sqrt(mse))"
   ]
  },
  {
   "cell_type": "code",
   "execution_count": 37,
   "id": "caa58d95",
   "metadata": {},
   "outputs": [
    {
     "data": {
      "text/plain": [
       "9.986863182492867"
      ]
     },
     "execution_count": 37,
     "metadata": {},
     "output_type": "execute_result"
    }
   ],
   "source": [
    "gb = GradientBoostingRegressor()\n",
    "gb.fit(X_train, y_train)\n",
    "y_pred = gb.predict(X_test)\n",
    "np.sqrt(mean_squared_error(y_test, y_pred))"
   ]
  },
  {
   "cell_type": "code",
   "execution_count": 38,
   "id": "b8438bde",
   "metadata": {},
   "outputs": [
    {
     "data": {
      "text/plain": [
       "Text(0.5, 1.0, 'Feature Importance')"
      ]
     },
     "execution_count": 38,
     "metadata": {},
     "output_type": "execute_result"
    },
    {
     "data": {
      "image/png": "[encoded data removed]",
      "text/plain": [
       "<Figure size 360x504 with 1 Axes>"
      ]
     },
     "metadata": {
      "needs_background": "light"
     },
     "output_type": "display_data"
    }
   ],
   "source": [
    "plt.figure(figsize=(5,7))\n",
    "sns.barplot(gb.feature_importances_, X.columns)\n",
    "plt.title('Feature Importance')"
   ]
  },
  {
   "cell_type": "code",
   "execution_count": 40,
   "id": "8180ef5f",
   "metadata": {},
   "outputs": [],
   "source": [
    "submission = pd.read_csv('submission.csv')\n",
    "final_predictions = gb.predict(test_scaled)\n",
    "submission['hours-per-week'] = final_predictions\n",
    "submission.to_csv('work2.csv', index=False)"
   ]
  },
  {
   "cell_type": "code",
   "execution_count": null,
   "id": "4e028b0a",
   "metadata": {},
   "outputs": [],
   "source": []
  }
 ],
 "metadata": {
  "kernelspec": {
   "display_name": "Python 3",
   "language": "python",
   "name": "python3"
  },
  "language_info": {
   "codemirror_mode": {
    "name": "ipython",
    "version": 3
   },
   "file_extension": ".py",
   "mimetype": "text/x-python",
   "name": "python",
   "nbconvert_exporter": "python",
   "pygments_lexer": "ipython3",
   "version": "3.8.8"
  }
 },
 "nbformat": 4,
 "nbformat_minor": 5
}
